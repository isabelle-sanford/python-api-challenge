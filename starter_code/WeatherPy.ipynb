{
 "cells": [
  {
   "cell_type": "markdown",
   "metadata": {},
   "source": [
    "# WeatherPy\n",
    "----\n"
   ]
  },
  {
   "cell_type": "code",
   "execution_count": 4,
   "metadata": {
    "scrolled": true
   },
   "outputs": [],
   "source": [
    "# import api key and all important modules\n",
    "from api_keys import weather_api_key \n",
    "\n",
    "from citipy import citipy\n",
    "import random\n",
    "import requests\n",
    "import pandas as pd\n",
    "from matplotlib import pyplot as plt\n",
    "from scipy import stats\n",
    "\n",
    "# set plot style\n",
    "plt.style.use('seaborn-colorblind')"
   ]
  },
  {
   "cell_type": "markdown",
   "metadata": {},
   "source": [
    "## Generate Cities List"
   ]
  },
  {
   "cell_type": "code",
   "execution_count": 5,
   "metadata": {},
   "outputs": [],
   "source": [
    "# function to create api query url\n",
    "def make_url(name, country):\n",
    "    base_url = \"http://api.openweathermap.org/data/2.5/weather?q=\"\n",
    "    url = f\"{base_url}{name},{country}&appid={weather_api_key}\"\n",
    "    return url"
   ]
  },
  {
   "cell_type": "code",
   "execution_count": 6,
   "metadata": {},
   "outputs": [],
   "source": [
    "# function to take a city and query the api for info\n",
    "def query(city):\n",
    "    url = make_url(city[0], city[1])\n",
    "    response = requests.get(url)\n",
    "\n",
    "    # if error \n",
    "    if response.status_code > 399:\n",
    "        print(\"City not found. Skipping...\")\n",
    "        return 0\n",
    "\n",
    "    return response.json()"
   ]
  },
  {
   "cell_type": "code",
   "execution_count": 7,
   "metadata": {},
   "outputs": [
    {
     "name": "stdout",
     "output_type": "stream",
     "text": [
      "Processing City 1 | taolanaro\n",
      "City not found. Skipping...\n",
      "Processing City 2 | rikitea\n",
      "Processing City 3 | vaini\n",
      "Processing City 4 | mataura\n",
      "City not found. Skipping...\n",
      "Processing City 5 | blyznyuky\n",
      "Processing City 6 | dunedin\n",
      "Processing City 7 | attawapiskat\n",
      "City not found. Skipping...\n",
      "Processing City 8 | abu dhabi\n",
      "Processing City 9 | barrow\n",
      "Processing City 10 | yellowknife\n",
      "Processing City 11 | atuona\n",
      "Processing City 12 | albany\n",
      "Processing City 14 | busselton\n",
      "Processing City 15 | saint-augustin\n",
      "Processing City 16 | cape town\n",
      "Processing City 17 | itum-kale\n",
      "Processing City 18 | prince rupert\n",
      "Processing City 19 | tezu\n",
      "Processing City 20 | nanakuli\n",
      "Processing City 21 | key west\n",
      "Processing City 22 | cidreira\n",
      "Processing City 23 | alpena\n",
      "Processing City 24 | sibolga\n",
      "Processing City 25 | bluff\n",
      "Processing City 26 | butaritari\n",
      "Processing City 28 | hilo\n",
      "Processing City 29 | petropavlovsk-kamchatskiy\n",
      "Processing City 31 | tongchuan\n",
      "Processing City 32 | ribeira grande\n",
      "Processing City 33 | belushya guba\n",
      "City not found. Skipping...\n",
      "Processing City 34 | kodiak\n",
      "Processing City 35 | vargashi\n",
      "Processing City 37 | mweka\n",
      "Processing City 39 | ushuaia\n",
      "Processing City 40 | krasnoarmeysk\n",
      "City not found. Skipping...\n",
      "Processing City 41 | port alfred\n",
      "Processing City 43 | hami\n",
      "Processing City 46 | bafilo\n",
      "Processing City 47 | maldonado\n",
      "Processing City 48 | vestmannaeyjar\n",
      "Processing City 49 | husavik\n",
      "Processing City 50 | north bend\n",
      "Processing City 51 | deh rawud\n",
      "City not found. Skipping...\n",
      "Processing City 52 | fomboni\n",
      "Processing City 53 | tautira\n",
      "Processing City 55 | waddan\n",
      "Processing City 56 | djenne\n",
      "Processing City 57 | bengkulu\n",
      "Processing City 58 | ornskoldsvik\n",
      "Processing City 60 | duz\n",
      "City not found. Skipping...\n",
      "Processing City 61 | naini tal\n",
      "Processing City 62 | port elizabeth\n",
      "Processing City 63 | nikolskoye\n",
      "Processing City 64 | puerto ayora\n",
      "Processing City 65 | airai\n",
      "City not found. Skipping...\n",
      "Processing City 66 | qaanaaq\n",
      "Processing City 67 | luanda\n",
      "Processing City 68 | hobart\n",
      "Processing City 71 | vilhena\n",
      "Processing City 72 | tambura\n",
      "City not found. Skipping...\n",
      "Processing City 73 | port hardy\n",
      "Processing City 75 | osakarovka\n",
      "Processing City 79 | hereford\n",
      "Processing City 80 | vredendal\n",
      "Processing City 84 | avarua\n",
      "Processing City 85 | kapaa\n",
      "Processing City 86 | provideniya\n",
      "Processing City 87 | ulladulla\n",
      "Processing City 89 | punta arenas\n",
      "Processing City 91 | khatanga\n",
      "Processing City 94 | belyy yar\n",
      "Processing City 95 | kamaishi\n",
      "Processing City 96 | yulara\n",
      "Processing City 97 | elko\n",
      "Processing City 98 | brenham\n",
      "Processing City 99 | aschersleben\n",
      "Processing City 101 | hermanus\n",
      "Processing City 103 | zarubino\n",
      "Processing City 105 | chokurdakh\n",
      "Processing City 106 | tessalit\n",
      "Processing City 108 | limbang\n",
      "Processing City 109 | lagoa\n",
      "Processing City 111 | faya\n",
      "City not found. Skipping...\n",
      "Processing City 112 | college\n",
      "Processing City 114 | cherskiy\n",
      "Processing City 115 | bindi\n",
      "Processing City 117 | carnarvon\n",
      "Processing City 118 | koroni\n",
      "Processing City 119 | saleaula\n",
      "City not found. Skipping...\n",
      "Processing City 120 | qasigiannguit\n",
      "Processing City 121 | marawi\n",
      "Processing City 122 | georgetown\n",
      "Processing City 123 | marienburg\n",
      "Processing City 124 | antofagasta\n",
      "Processing City 125 | san quintin\n",
      "Processing City 130 | jodhpur\n",
      "Processing City 131 | hohhot\n",
      "Processing City 132 | san andres\n",
      "Processing City 133 | ilebo\n",
      "Processing City 134 | margate\n",
      "Processing City 135 | hamilton\n",
      "Processing City 136 | saldanha\n",
      "Processing City 137 | acapulco\n",
      "Processing City 138 | nanortalik\n",
      "Processing City 140 | atar\n",
      "Processing City 142 | kiama\n",
      "Processing City 143 | tasiilaq\n",
      "Processing City 144 | providencia\n",
      "Processing City 145 | ayame\n",
      "Processing City 146 | mahebourg\n",
      "Processing City 148 | nosy varika\n",
      "Processing City 149 | klyuchi\n",
      "Processing City 152 | bilgi\n",
      "Processing City 153 | kamskiye polyany\n",
      "Processing City 155 | ponta do sol\n",
      "Processing City 158 | aksarka\n",
      "Processing City 160 | brigantine\n",
      "Processing City 162 | barentsburg\n",
      "City not found. Skipping...\n",
      "Processing City 163 | mogadishu\n",
      "Processing City 164 | saint-georges\n",
      "Processing City 165 | umzimvubu\n",
      "City not found. Skipping...\n",
      "Processing City 167 | saint-leu\n",
      "Processing City 169 | nisia floresta\n",
      "Processing City 172 | yala\n",
      "Processing City 173 | new norfolk\n",
      "Processing City 174 | malakal\n",
      "City not found. Skipping...\n",
      "Processing City 176 | sitka\n",
      "Processing City 179 | tuktoyaktuk\n",
      "Processing City 180 | smithers\n",
      "Processing City 181 | souillac\n",
      "Processing City 183 | vila franca do campo\n",
      "Processing City 185 | dolbeau\n",
      "City not found. Skipping...\n",
      "Processing City 186 | biloxi\n",
      "Processing City 187 | mount isa\n",
      "Processing City 188 | oranjemund\n",
      "Processing City 190 | yunjinghong\n",
      "City not found. Skipping...\n",
      "Processing City 191 | saint-philippe\n",
      "Processing City 192 | sao joao da barra\n",
      "Processing City 193 | kununurra\n",
      "Processing City 194 | indi\n",
      "Processing City 196 | whitehorse\n",
      "Processing City 197 | kruisfontein\n",
      "Processing City 198 | bambous virieux\n",
      "Processing City 199 | constitucion\n",
      "Processing City 201 | arraial do cabo\n",
      "Processing City 203 | ostrovnoy\n",
      "Processing City 208 | dinsor\n",
      "City not found. Skipping...\n",
      "Processing City 211 | gusau\n",
      "Processing City 212 | east london\n",
      "Processing City 215 | alexandria\n",
      "Processing City 217 | hala\n",
      "Processing City 219 | banagher\n",
      "Processing City 220 | porto uniao\n",
      "Processing City 225 | hithadhoo\n",
      "Processing City 229 | touros\n",
      "Processing City 230 | bandarbeyla\n",
      "Processing City 232 | halalo\n",
      "City not found. Skipping...\n",
      "Processing City 236 | mys shmidta\n",
      "City not found. Skipping...\n",
      "Processing City 238 | bollnas\n",
      "Processing City 242 | dakar\n",
      "Processing City 243 | castro\n",
      "Processing City 245 | birao\n",
      "Processing City 246 | aykhal\n",
      "Processing City 248 | khonuu\n",
      "City not found. Skipping...\n",
      "Processing City 249 | ghanzi\n",
      "Processing City 252 | kim\n",
      "Processing City 253 | garowe\n",
      "Processing City 256 | aanekoski\n",
      "Processing City 258 | port blair\n",
      "Processing City 259 | raudeberg\n",
      "Processing City 260 | kalabo\n",
      "Processing City 261 | linhares\n",
      "Processing City 262 | hammerfest\n",
      "Processing City 264 | pathein\n",
      "Processing City 266 | somerset\n",
      "Processing City 267 | urengoy\n",
      "Processing City 273 | primorsk\n",
      "Processing City 277 | turbat\n",
      "Processing City 278 | pakdasht\n",
      "Processing City 282 | kutum\n",
      "Processing City 283 | coos bay\n",
      "Processing City 285 | victoria\n",
      "Processing City 287 | shelburne\n",
      "Processing City 288 | rocha\n",
      "Processing City 293 | phan rang\n",
      "City not found. Skipping...\n",
      "Processing City 294 | longyearbyen\n",
      "Processing City 296 | aklavik\n",
      "Processing City 297 | ouadda\n",
      "Processing City 298 | creel\n",
      "Processing City 304 | karema\n",
      "Processing City 305 | talnakh\n",
      "Processing City 309 | batemans bay\n",
      "Processing City 310 | buraydah\n",
      "Processing City 311 | douglas\n",
      "Processing City 312 | ilulissat\n",
      "Processing City 313 | jamestown\n",
      "Processing City 314 | asasa\n",
      "Processing City 317 | lewistown\n",
      "Processing City 318 | addi ugri\n",
      "City not found. Skipping...\n",
      "Processing City 319 | alofi\n",
      "Processing City 321 | san jose de guanipa\n",
      "Processing City 322 | kawalu\n",
      "Processing City 325 | iwaki\n",
      "Processing City 326 | jati\n",
      "Processing City 327 | storforshei\n",
      "Processing City 328 | thompson\n",
      "Processing City 334 | katsuura\n",
      "Processing City 336 | bredasdorp\n",
      "Processing City 338 | san cristobal\n",
      "Processing City 341 | nieuw amsterdam\n",
      "Processing City 343 | dikson\n",
      "Processing City 344 | plettenberg bay\n",
      "Processing City 347 | severo-kurilsk\n",
      "Processing City 348 | wajir\n",
      "Processing City 350 | kizema\n",
      "Processing City 351 | mananjary\n",
      "Processing City 352 | teahupoo\n",
      "Processing City 355 | salalah\n",
      "Processing City 356 | xam nua\n",
      "Processing City 361 | ambilobe\n",
      "Processing City 362 | hambantota\n",
      "Processing City 367 | petrovsk\n",
      "Processing City 368 | general pico\n",
      "Processing City 369 | kiruna\n",
      "Processing City 371 | saskylakh\n",
      "Processing City 374 | ust-maya\n",
      "Processing City 375 | valparaiso\n",
      "Processing City 376 | tilichiki\n",
      "Processing City 379 | henties bay\n",
      "Processing City 380 | cairns\n",
      "Processing City 381 | guerrero negro\n",
      "Processing City 387 | nueva loja\n",
      "Processing City 389 | itacurubi del rosario\n",
      "Processing City 392 | mar del plata\n",
      "Processing City 395 | chapais\n",
      "Processing City 396 | samusu\n",
      "City not found. Skipping...\n",
      "Processing City 397 | maniitsoq\n",
      "Processing City 398 | lavrentiya\n",
      "Processing City 400 | hasaki\n",
      "Processing City 402 | kahului\n",
      "Processing City 406 | kirillov\n",
      "Processing City 408 | sijunjung\n"
     ]
    },
    {
     "name": "stdout",
     "output_type": "stream",
     "text": [
      "Processing City 409 | qena\n",
      "Processing City 410 | port-gentil\n",
      "Processing City 413 | ruatoria\n",
      "City not found. Skipping...\n",
      "Processing City 415 | north myrtle beach\n",
      "Processing City 416 | macau\n",
      "Processing City 417 | seoul\n",
      "Processing City 419 | tumut\n",
      "Processing City 420 | melekhovo\n",
      "Processing City 424 | mana\n",
      "Processing City 426 | viedma\n",
      "Processing City 427 | eureka\n",
      "Processing City 428 | mitu\n",
      "Processing City 433 | mumford\n",
      "Processing City 437 | menongue\n",
      "Processing City 438 | upernavik\n",
      "Processing City 439 | vodnyy\n",
      "Processing City 441 | harlingen\n",
      "Processing City 445 | bertoua\n",
      "Processing City 446 | nantucket\n",
      "Processing City 447 | esperance\n",
      "Processing City 448 | port lincoln\n",
      "Processing City 449 | new haven\n",
      "Processing City 450 | havre-saint-pierre\n",
      "Processing City 452 | kozan\n",
      "Processing City 455 | clyde river\n",
      "Processing City 457 | ixtapa\n",
      "Processing City 459 | lata\n",
      "City not found. Skipping...\n",
      "Processing City 460 | baykit\n",
      "Processing City 462 | chunoyar\n",
      "Processing City 465 | manono\n",
      "Processing City 466 | bilibino\n",
      "Processing City 468 | sydney\n",
      "Processing City 470 | masterton\n",
      "Processing City 471 | esterhazy\n",
      "Processing City 472 | praia da vitoria\n",
      "Processing City 474 | meulaboh\n",
      "Processing City 478 | quatre cocos\n",
      "Processing City 481 | sioux lookout\n",
      "Processing City 485 | kirtipur\n",
      "Processing City 487 | nishihara\n",
      "Processing City 488 | tuatapere\n",
      "Processing City 490 | kota kinabalu\n",
      "Processing City 491 | luderitz\n",
      "Processing City 493 | yautepec\n",
      "Processing City 494 | verkhnyaya inta\n",
      "Processing City 496 | richards bay\n",
      "Processing City 498 | iqaluit\n",
      "Processing City 499 | astana\n",
      "Processing City 500 | laguna\n",
      "Processing City 502 | beringovskiy\n",
      "Processing City 506 | faanui\n",
      "Processing City 508 | mokhotlong\n",
      "Processing City 509 | camacha\n",
      "Processing City 511 | wattegama\n",
      "Processing City 515 | hovd\n",
      "Processing City 517 | vao\n",
      "Processing City 520 | sentyabrskiy\n",
      "City not found. Skipping...\n",
      "Processing City 521 | illoqqortoormiut\n",
      "City not found. Skipping...\n",
      "Processing City 522 | kontagora\n",
      "Processing City 523 | comodoro rivadavia\n",
      "Processing City 524 | ferkessedougou\n",
      "Processing City 525 | dicabisagan\n",
      "Processing City 528 | farim\n",
      "Processing City 529 | bethel\n",
      "Processing City 531 | tiksi\n",
      "Processing City 532 | vardo\n",
      "Processing City 535 | mount gambier\n",
      "Processing City 536 | ahipara\n",
      "Processing City 537 | nome\n",
      "Processing City 538 | sehithwa\n",
      "Processing City 542 | chambersburg\n",
      "Processing City 544 | boguchany\n",
      "Processing City 545 | kysyl-syr\n",
      "Processing City 552 | iskateley\n",
      "Processing City 554 | narsaq\n",
      "Processing City 559 | challapata\n",
      "Processing City 561 | la romana\n",
      "Processing City 562 | moose factory\n",
      "Processing City 564 | bourail\n",
      "Processing City 567 | panaba\n",
      "Processing City 570 | marondera\n",
      "Processing City 575 | katangli\n",
      "Processing City 577 | mul\n",
      "Processing City 578 | avera\n",
      "City not found. Skipping...\n",
      "Processing City 580 | zhanatas\n",
      "City not found. Skipping...\n",
      "Processing City 581 | hokitika\n",
      "Processing City 588 | deputatskiy\n",
      "Processing City 595 | kaeo\n",
      "Processing City 597 | callaway\n",
      "Processing City 599 | padang\n",
      "Processing City 600 | ondorhaan\n",
      "City not found. Skipping...\n",
      "Processing City 601 | san jose\n",
      "Processing City 602 | sao jose da coroa grande\n",
      "Processing City 606 | ancud\n",
      "Processing City 607 | lovington\n",
      "Processing City 608 | geraldton\n",
      "Processing City 610 | bur gabo\n",
      "City not found. Skipping...\n",
      "Processing City 611 | wallasey\n",
      "Processing City 612 | teya\n",
      "Processing City 613 | karakendzha\n",
      "City not found. Skipping...\n",
      "Processing City 617 | manzanillo\n",
      "Processing City 618 | mehamn\n",
      "Processing City 619 | huilong\n",
      "Processing City 623 | itarema\n",
      "Processing City 624 | fairbanks\n",
      "Processing City 628 | bambari\n",
      "Processing City 631 | yumen\n",
      "Processing City 632 | lorengau\n",
      "Processing City 634 | druzhba\n",
      "City not found. Skipping...\n",
      "Processing City 635 | coihaique\n",
      "Processing City 637 | rwamagana\n",
      "Processing City 638 | dosso\n",
      "Processing City 641 | newark\n",
      "Processing City 642 | tsihombe\n",
      "City not found. Skipping...\n",
      "Processing City 643 | one hundred mile house\n",
      "City not found. Skipping...\n",
      "Processing City 646 | merauke\n",
      "Processing City 650 | yashan\n",
      "Processing City 651 | huarmey\n",
      "Processing City 654 | novo aripuana\n",
      "Processing City 656 | rungata\n",
      "City not found. Skipping...\n",
      "Processing City 658 | longlac\n",
      "City not found. Skipping...\n",
      "Processing City 661 | klaksvik\n",
      "Processing City 662 | rawson\n",
      "Processing City 665 | porto velho\n",
      "Processing City 669 | ust-kuyga\n",
      "Processing City 671 | aubiere\n",
      "Processing City 676 | kompaniyivka\n",
      "Processing City 679 | inderborskiy\n",
      "City not found. Skipping...\n",
      "Processing City 681 | tairua\n",
      "Processing City 682 | aasiaat\n",
      "Processing City 683 | rupert\n",
      "Processing City 684 | vallenar\n",
      "Processing City 686 | waipawa\n",
      "Processing City 687 | san juan\n",
      "Processing City 688 | altay\n",
      "Processing City 691 | puerto escondido\n",
      "Processing City 692 | puri\n",
      "Processing City 693 | hobe sound\n",
      "Processing City 694 | buala\n",
      "Processing City 699 | tahoua\n",
      "Processing City 700 | numaligarh\n",
      "Processing City 706 | nizhneyansk\n",
      "City not found. Skipping...\n",
      "Processing City 707 | moshi\n",
      "Processing City 708 | ozinki\n",
      "Processing City 714 | kieta\n",
      "Processing City 720 | lompoc\n",
      "Processing City 721 | udachnyy\n",
      "Processing City 723 | kirakira\n",
      "Processing City 725 | awjilah\n",
      "Processing City 726 | ponta do sol\n",
      "Processing City 727 | cap malheureux\n",
      "Processing City 728 | axim\n",
      "Processing City 729 | port keats\n",
      "Processing City 732 | soyo\n",
      "Processing City 737 | cockburn harbour\n",
      "City not found. Skipping...\n",
      "Processing City 747 | labutta\n",
      "City not found. Skipping...\n",
      "Processing City 751 | norman wells\n",
      "Processing City 752 | leningradskiy\n",
      "Processing City 757 | batsfjord\n",
      "Processing City 766 | krasnoselkup\n",
      "Processing City 768 | minoyan\n",
      "City not found. Skipping...\n",
      "Processing City 773 | sabha\n",
      "Processing City 775 | cedar city\n",
      "Processing City 776 | tiarei\n",
      "Processing City 778 | siocon\n",
      "Processing City 780 | kamenka\n",
      "Processing City 782 | havoysund\n",
      "Processing City 784 | bereda\n",
      "City not found. Skipping...\n",
      "Processing City 787 | trapani\n",
      "Processing City 790 | ngunguru\n",
      "Processing City 793 | we\n",
      "Processing City 794 | severnoye\n",
      "Processing City 795 | atambua\n",
      "Processing City 796 | bathsheba\n",
      "Processing City 798 | san juan\n",
      "Processing City 799 | tabiauea\n",
      "City not found. Skipping...\n",
      "Processing City 800 | koboko\n",
      "Processing City 805 | tokur\n",
      "Processing City 806 | ambunti\n",
      "Processing City 808 | grand gaube\n",
      "Processing City 810 | sinnamary\n",
      "Processing City 812 | masasi\n",
      "Processing City 816 | zyryanovsk\n",
      "Processing City 817 | butembo\n",
      "Processing City 818 | cape canaveral\n",
      "Processing City 822 | fortuna\n",
      "Processing City 823 | vichuga\n",
      "Processing City 826 | bowen\n",
      "Processing City 834 | rognac\n",
      "Processing City 835 | lebu\n",
      "Processing City 849 | beloha\n",
      "Processing City 853 | videira\n",
      "Processing City 854 | kayerkan\n",
      "Processing City 864 | rio gallegos\n",
      "Processing City 868 | bontang\n",
      "Processing City 871 | vila\n",
      "City not found. Skipping...\n",
      "Processing City 872 | hobyo\n",
      "Processing City 875 | nylstroom\n",
      "City not found. Skipping...\n",
      "Processing City 881 | valpacos\n",
      "Processing City 884 | tabou\n",
      "Processing City 887 | chuy\n",
      "Processing City 891 | paamiut\n",
      "Processing City 892 | suba\n",
      "Processing City 893 | tura\n",
      "Processing City 894 | san patricio\n",
      "Processing City 895 | goderich\n",
      "City not found. Skipping...\n",
      "Processing City 896 | reynoldsburg\n",
      "Processing City 897 | celestun\n",
      "Processing City 898 | areosa\n",
      "Processing City 899 | westport\n",
      "Processing City 905 | yabelo\n",
      "Processing City 907 | carpinteria\n",
      "Processing City 911 | huambo\n",
      "Processing City 914 | sao filipe\n",
      "Processing City 915 | mocuba\n",
      "Processing City 929 | los llanos de aridane\n",
      "Processing City 939 | amderma\n",
      "City not found. Skipping...\n",
      "Processing City 941 | andenes\n",
      "Processing City 946 | otukpo\n",
      "Processing City 949 | fevralsk\n",
      "City not found. Skipping...\n",
      "Processing City 950 | salym\n",
      "Processing City 951 | yirol\n",
      "City not found. Skipping...\n",
      "Processing City 953 | grand river south east\n",
      "City not found. Skipping...\n",
      "Processing City 957 | pingdu\n",
      "Processing City 960 | dingle\n",
      "Processing City 961 | thaba-tseka\n",
      "Processing City 966 | kashi\n",
      "Processing City 969 | tucurui\n",
      "Processing City 972 | buchanan\n",
      "Processing City 977 | torbay\n",
      "Processing City 979 | hun\n",
      "Processing City 982 | tomatlan\n",
      "Processing City 986 | nouadhibou\n",
      "Processing City 995 | lashio\n",
      "Processing City 997 | codrington\n",
      "City not found. Skipping...\n",
      "Processing City 1009 | taltal\n",
      "Processing City 1017 | kimbe\n"
     ]
    },
    {
     "name": "stdout",
     "output_type": "stream",
     "text": [
      "Processing City 1022 | port hawkesbury\n",
      "Processing City 1026 | krasnooktyabrskiy\n",
      "Processing City 1028 | formosa do rio preto\n",
      "Processing City 1030 | sault sainte marie\n",
      "Processing City 1036 | yerbogachen\n",
      "Processing City 1038 | muisne\n",
      "Processing City 1044 | maua\n",
      "Processing City 1050 | haines junction\n",
      "Processing City 1053 | fort nelson\n",
      "Processing City 1055 | belaya gora\n",
      "Processing City 1057 | waterloo\n",
      "Processing City 1058 | thongwa\n",
      "Processing City 1073 | kavieng\n",
      "Processing City 1076 | chitapur\n",
      "Processing City 1078 | carballo\n",
      "Processing City 1081 | pangody\n",
      "Processing City 1082 | shaunavon\n",
      "Processing City 1083 | cascais\n",
      "Processing City 1085 | irmo\n",
      "Processing City 1090 | fort smith\n",
      "Processing City 1093 | burns lake\n",
      "Processing City 1094 | san lazaro\n",
      "City not found. Skipping...\n",
      "Processing City 1095 | karamea\n",
      "City not found. Skipping...\n",
      "Processing City 1102 | kaitangata\n",
      "Processing City 1108 | qaqortoq\n",
      "Processing City 1110 | kihei\n",
      "Processing City 1112 | kegayli\n",
      "City not found. Skipping...\n",
      "Processing City 1113 | suffolk\n",
      "Processing City 1115 | san vicente\n",
      "Processing City 1117 | sylvania\n",
      "Processing City 1119 | dwarka\n",
      "Processing City 1128 | slatina\n",
      "Processing City 1130 | ndiekro\n",
      "City not found. Skipping...\n",
      "Processing City 1133 | stornoway\n",
      "Processing City 1134 | tawnat\n",
      "City not found. Skipping...\n",
      "Processing City 1136 | russell\n",
      "Processing City 1139 | mankachar\n",
      "Processing City 1149 | grindavik\n",
      "Processing City 1150 | sinkat\n",
      "City not found. Skipping...\n",
      "Processing City 1153 | riyadh\n",
      "Processing City 1154 | manoel urbano\n",
      "Processing City 1155 | titay\n",
      "Processing City 1158 | toamasina\n",
      "Processing City 1160 | komsomolskiy\n",
      "Processing City 1163 | vaitupu\n",
      "City not found. Skipping...\n",
      "Processing City 1165 | lazaro cardenas\n",
      "Processing City 1167 | tual\n",
      "Processing City 1174 | karatuzskoye\n",
      "Processing City 1176 | matameye\n",
      "City not found. Skipping...\n",
      "Processing City 1178 | karratha\n",
      "Processing City 1179 | naze\n",
      "Processing City 1180 | stolin\n",
      "Processing City 1181 | constitucion\n",
      "Processing City 1184 | pingzhuang\n",
      "Processing City 1190 | port augusta\n",
      "Processing City 1191 | caconda\n",
      "Processing City 1193 | binghamton\n",
      "Processing City 1196 | ulaangom\n",
      "Processing City 1200 | chagda\n",
      "City not found. Skipping...\n",
      "Processing City 1204 | mossoro\n",
      "Processing City 1208 | khurba\n",
      "Processing City 1210 | portland\n",
      "Processing City 1211 | kytmanovo\n",
      "Processing City 1215 | tecoanapa\n",
      "Processing City 1223 | nizhniy odes\n",
      "Processing City 1234 | krasnyy yar\n",
      "Processing City 1240 | stromness\n",
      "Processing City 1241 | shubarshi\n",
      "Processing City 1244 | pevek\n",
      "Processing City 1246 | oistins\n",
      "Processing City 1251 | wulanhaote\n",
      "City not found. Skipping...\n",
      "Processing City 1253 | sukaraja\n",
      "Processing City 1257 | salinopolis\n",
      "Processing City 1258 | acri\n",
      "Processing City 1264 | kholodnyy\n",
      "Processing City 1271 | uttaradit\n",
      "Processing City 1273 | curup\n",
      "Processing City 1278 | kaduqli\n",
      "Processing City 1281 | sa kaeo\n",
      "Processing City 1284 | benin\n",
      "Processing City 1285 | xifeng\n",
      "Processing City 1287 | champoton\n",
      "Processing City 1292 | rio grande\n"
     ]
    }
   ],
   "source": [
    "# get weather data on 500 cities\n",
    "cities = []\n",
    "data = []\n",
    "i = 1\n",
    "\n",
    "while len(data) < 500:\n",
    "    # put in random lat-long and get city\n",
    "    city_obj = citipy.nearest_city(random.uniform(-90,90), random.uniform(-180,180))\n",
    "    city = (city_obj.city_name, city_obj.country_code)\n",
    "    \n",
    "    # check if city is already in the list or not\n",
    "    if city not in cities:\n",
    "        cities.append(city)\n",
    "        print(f\"Processing City {i} | {city[0]}\")\n",
    "        \n",
    "        # get city weather data\n",
    "        result = query(city)\n",
    "        if result != 0:\n",
    "            # append IF no error\n",
    "            data.append(result)\n",
    "    i += 1"
   ]
  },
  {
   "cell_type": "code",
   "execution_count": 8,
   "metadata": {},
   "outputs": [],
   "source": [
    "# make list of dicts in order to convert to dataframe\n",
    "\n",
    "datalist = []\n",
    "for d in data:\n",
    "    # convert temperature to fahrenheit (from Kelvin)\n",
    "    temp = d['main']['temp_max']\n",
    "    fahr_temp = (temp - 273.15) * 1.8 + 32\n",
    "    \n",
    "    # dict keys are formatted such that they can be used directly as axis labels\n",
    "    currdict = {\"City\": d['name'],\n",
    "                \"Latitude\": d['coord']['lat'],\n",
    "                \"Longitude\": d['coord']['lon'],\n",
    "                \"Max Temperature\": fahr_temp,\n",
    "                \"Humidity\": d['main']['humidity'],\n",
    "                \"Windspeed\": d['wind']['speed'],\n",
    "                \"Cloudiness\": d['clouds']['all'],\n",
    "                \"Date\": d['dt'],\n",
    "                \"Country\": d['sys']['country']}\n",
    "    datalist.append(currdict)\n",
    "\n",
    "units = {\"Max Temperature\": \"F\", \"Humidity\": \"%\", \"Windspeed\": \"mph\", \"Cloudiness\": \"%\"}"
   ]
  },
  {
   "cell_type": "markdown",
   "metadata": {},
   "source": [
    "### Convert Raw Data to DataFrame\n",
    "* Export the city data into a .csv.\n",
    "* Display the DataFrame"
   ]
  },
  {
   "cell_type": "code",
   "execution_count": 9,
   "metadata": {},
   "outputs": [
    {
     "data": {
      "text/html": [
       "<div>\n",
       "<style scoped>\n",
       "    .dataframe tbody tr th:only-of-type {\n",
       "        vertical-align: middle;\n",
       "    }\n",
       "\n",
       "    .dataframe tbody tr th {\n",
       "        vertical-align: top;\n",
       "    }\n",
       "\n",
       "    .dataframe thead th {\n",
       "        text-align: right;\n",
       "    }\n",
       "</style>\n",
       "<table border=\"1\" class=\"dataframe\">\n",
       "  <thead>\n",
       "    <tr style=\"text-align: right;\">\n",
       "      <th></th>\n",
       "      <th>City</th>\n",
       "      <th>Latitude</th>\n",
       "      <th>Longitude</th>\n",
       "      <th>Max Temperature</th>\n",
       "      <th>Humidity</th>\n",
       "      <th>Windspeed</th>\n",
       "      <th>Cloudiness</th>\n",
       "      <th>Date</th>\n",
       "      <th>Country</th>\n",
       "    </tr>\n",
       "  </thead>\n",
       "  <tbody>\n",
       "    <tr>\n",
       "      <th>0</th>\n",
       "      <td>Rikitea</td>\n",
       "      <td>-23.12</td>\n",
       "      <td>-134.97</td>\n",
       "      <td>74.588</td>\n",
       "      <td>80</td>\n",
       "      <td>8.78</td>\n",
       "      <td>100</td>\n",
       "      <td>1602982257</td>\n",
       "      <td>PF</td>\n",
       "    </tr>\n",
       "    <tr>\n",
       "      <th>1</th>\n",
       "      <td>Vaini</td>\n",
       "      <td>-21.20</td>\n",
       "      <td>-175.20</td>\n",
       "      <td>78.800</td>\n",
       "      <td>83</td>\n",
       "      <td>8.20</td>\n",
       "      <td>75</td>\n",
       "      <td>1602982258</td>\n",
       "      <td>TO</td>\n",
       "    </tr>\n",
       "    <tr>\n",
       "      <th>2</th>\n",
       "      <td>Blyznyuky</td>\n",
       "      <td>48.86</td>\n",
       "      <td>36.56</td>\n",
       "      <td>60.728</td>\n",
       "      <td>89</td>\n",
       "      <td>7.10</td>\n",
       "      <td>100</td>\n",
       "      <td>1602982258</td>\n",
       "      <td>UA</td>\n",
       "    </tr>\n",
       "    <tr>\n",
       "      <th>3</th>\n",
       "      <td>Dunedin</td>\n",
       "      <td>-45.87</td>\n",
       "      <td>170.50</td>\n",
       "      <td>53.006</td>\n",
       "      <td>70</td>\n",
       "      <td>0.89</td>\n",
       "      <td>53</td>\n",
       "      <td>1602982259</td>\n",
       "      <td>NZ</td>\n",
       "    </tr>\n",
       "    <tr>\n",
       "      <th>4</th>\n",
       "      <td>Abu Dhabi</td>\n",
       "      <td>24.47</td>\n",
       "      <td>54.37</td>\n",
       "      <td>77.000</td>\n",
       "      <td>57</td>\n",
       "      <td>1.50</td>\n",
       "      <td>0</td>\n",
       "      <td>1602982162</td>\n",
       "      <td>AE</td>\n",
       "    </tr>\n",
       "  </tbody>\n",
       "</table>\n",
       "</div>"
      ],
      "text/plain": [
       "        City  Latitude  Longitude  Max Temperature  Humidity  Windspeed  \\\n",
       "0    Rikitea    -23.12    -134.97           74.588        80       8.78   \n",
       "1      Vaini    -21.20    -175.20           78.800        83       8.20   \n",
       "2  Blyznyuky     48.86      36.56           60.728        89       7.10   \n",
       "3    Dunedin    -45.87     170.50           53.006        70       0.89   \n",
       "4  Abu Dhabi     24.47      54.37           77.000        57       1.50   \n",
       "\n",
       "   Cloudiness        Date Country  \n",
       "0         100  1602982257      PF  \n",
       "1          75  1602982258      TO  \n",
       "2         100  1602982258      UA  \n",
       "3          53  1602982259      NZ  \n",
       "4           0  1602982162      AE  "
      ]
     },
     "execution_count": 9,
     "metadata": {},
     "output_type": "execute_result"
    }
   ],
   "source": [
    "# convert to dataframe and export to csv\n",
    "df = pd.DataFrame(datalist)\n",
    "df.to_csv(\"weather_data.csv\", index = False)\n",
    "\n",
    "df.head()"
   ]
  },
  {
   "cell_type": "code",
   "execution_count": 10,
   "metadata": {},
   "outputs": [
    {
     "data": {
      "text/html": [
       "<div>\n",
       "<style scoped>\n",
       "    .dataframe tbody tr th:only-of-type {\n",
       "        vertical-align: middle;\n",
       "    }\n",
       "\n",
       "    .dataframe tbody tr th {\n",
       "        vertical-align: top;\n",
       "    }\n",
       "\n",
       "    .dataframe thead th {\n",
       "        text-align: right;\n",
       "    }\n",
       "</style>\n",
       "<table border=\"1\" class=\"dataframe\">\n",
       "  <thead>\n",
       "    <tr style=\"text-align: right;\">\n",
       "      <th></th>\n",
       "      <th>Latitude</th>\n",
       "      <th>Longitude</th>\n",
       "      <th>Max Temperature</th>\n",
       "      <th>Humidity</th>\n",
       "      <th>Windspeed</th>\n",
       "      <th>Cloudiness</th>\n",
       "      <th>Date</th>\n",
       "    </tr>\n",
       "  </thead>\n",
       "  <tbody>\n",
       "    <tr>\n",
       "      <th>count</th>\n",
       "      <td>500.000000</td>\n",
       "      <td>500.000000</td>\n",
       "      <td>500.000000</td>\n",
       "      <td>500.00000</td>\n",
       "      <td>500.000000</td>\n",
       "      <td>500.000000</td>\n",
       "      <td>5.000000e+02</td>\n",
       "    </tr>\n",
       "    <tr>\n",
       "      <th>mean</th>\n",
       "      <td>18.795740</td>\n",
       "      <td>14.523400</td>\n",
       "      <td>59.794592</td>\n",
       "      <td>74.74400</td>\n",
       "      <td>3.511300</td>\n",
       "      <td>50.054000</td>\n",
       "      <td>1.602982e+09</td>\n",
       "    </tr>\n",
       "    <tr>\n",
       "      <th>std</th>\n",
       "      <td>34.623506</td>\n",
       "      <td>90.385925</td>\n",
       "      <td>19.424128</td>\n",
       "      <td>19.28934</td>\n",
       "      <td>2.341279</td>\n",
       "      <td>40.060014</td>\n",
       "      <td>7.566857e+01</td>\n",
       "    </tr>\n",
       "    <tr>\n",
       "      <th>min</th>\n",
       "      <td>-54.800000</td>\n",
       "      <td>-175.200000</td>\n",
       "      <td>4.406000</td>\n",
       "      <td>9.00000</td>\n",
       "      <td>0.100000</td>\n",
       "      <td>0.000000</td>\n",
       "      <td>1.602981e+09</td>\n",
       "    </tr>\n",
       "    <tr>\n",
       "      <th>25%</th>\n",
       "      <td>-8.855000</td>\n",
       "      <td>-63.967500</td>\n",
       "      <td>46.004000</td>\n",
       "      <td>64.00000</td>\n",
       "      <td>1.500000</td>\n",
       "      <td>4.000000</td>\n",
       "      <td>1.602982e+09</td>\n",
       "    </tr>\n",
       "    <tr>\n",
       "      <th>50%</th>\n",
       "      <td>20.470000</td>\n",
       "      <td>20.135000</td>\n",
       "      <td>62.996000</td>\n",
       "      <td>80.00000</td>\n",
       "      <td>3.100000</td>\n",
       "      <td>47.000000</td>\n",
       "      <td>1.602982e+09</td>\n",
       "    </tr>\n",
       "    <tr>\n",
       "      <th>75%</th>\n",
       "      <td>50.010000</td>\n",
       "      <td>90.250000</td>\n",
       "      <td>76.676000</td>\n",
       "      <td>88.25000</td>\n",
       "      <td>5.057500</td>\n",
       "      <td>90.250000</td>\n",
       "      <td>1.602982e+09</td>\n",
       "    </tr>\n",
       "    <tr>\n",
       "      <th>max</th>\n",
       "      <td>78.220000</td>\n",
       "      <td>179.320000</td>\n",
       "      <td>93.200000</td>\n",
       "      <td>100.00000</td>\n",
       "      <td>11.440000</td>\n",
       "      <td>100.000000</td>\n",
       "      <td>1.602982e+09</td>\n",
       "    </tr>\n",
       "  </tbody>\n",
       "</table>\n",
       "</div>"
      ],
      "text/plain": [
       "         Latitude   Longitude  Max Temperature   Humidity   Windspeed  \\\n",
       "count  500.000000  500.000000       500.000000  500.00000  500.000000   \n",
       "mean    18.795740   14.523400        59.794592   74.74400    3.511300   \n",
       "std     34.623506   90.385925        19.424128   19.28934    2.341279   \n",
       "min    -54.800000 -175.200000         4.406000    9.00000    0.100000   \n",
       "25%     -8.855000  -63.967500        46.004000   64.00000    1.500000   \n",
       "50%     20.470000   20.135000        62.996000   80.00000    3.100000   \n",
       "75%     50.010000   90.250000        76.676000   88.25000    5.057500   \n",
       "max     78.220000  179.320000        93.200000  100.00000   11.440000   \n",
       "\n",
       "       Cloudiness          Date  \n",
       "count  500.000000  5.000000e+02  \n",
       "mean    50.054000  1.602982e+09  \n",
       "std     40.060014  7.566857e+01  \n",
       "min      0.000000  1.602981e+09  \n",
       "25%      4.000000  1.602982e+09  \n",
       "50%     47.000000  1.602982e+09  \n",
       "75%     90.250000  1.602982e+09  \n",
       "max    100.000000  1.602982e+09  "
      ]
     },
     "execution_count": 10,
     "metadata": {},
     "output_type": "execute_result"
    }
   ],
   "source": [
    "# look at summary stats\n",
    "df.describe()\n",
    "\n",
    "# notably, humidity max is 100 so we don't need to remove humidities above 100"
   ]
  },
  {
   "cell_type": "markdown",
   "metadata": {},
   "source": [
    "## Plotting the Data\n",
    "* Use proper labeling of the plots using plot titles (including date of analysis) and axes labels.\n",
    "* Save the plotted figures as .pngs."
   ]
  },
  {
   "cell_type": "code",
   "execution_count": 11,
   "metadata": {},
   "outputs": [],
   "source": [
    "# define function to plot and label any variable vs latitude\n",
    "def plots(var):\n",
    "    fig, ax = plt.subplots()\n",
    "    ax.scatter(df['Latitude'], df[var])\n",
    "    ax.set(xlabel = \"Latitude\",\n",
    "          ylabel = f\"{var} ({units[var]})\",\n",
    "          title = f\"City Latitude vs {var} | 10/17/2020\")\n",
    "    \n",
    "    plt.savefig(f\"Lat vs {var}.png\")"
   ]
  },
  {
   "cell_type": "code",
   "execution_count": 12,
   "metadata": {
    "scrolled": true
   },
   "outputs": [
    {
     "data": {
      "image/png": "[encoded data removed]",
      "text/plain": [
       "<Figure size 432x288 with 1 Axes>"
      ]
     },
     "metadata": {
      "needs_background": "light"
     },
     "output_type": "display_data"
    }
   ],
   "source": [
    "plots(\"Max Temperature\")"
   ]
  },
  {
   "cell_type": "markdown",
   "metadata": {},
   "source": [
    "This shows the maximum temperature in each city, plotted across latitude. As would be expected, the highest temperatures are near 0 latitude (i.e. the equator), and decreases on each side."
   ]
  },
  {
   "cell_type": "code",
   "execution_count": 13,
   "metadata": {},
   "outputs": [
    {
     "data": {
      "image/png": "[encoded data removed]",
      "text/plain": [
       "<Figure size 432x288 with 1 Axes>"
      ]
     },
     "metadata": {
      "needs_background": "light"
     },
     "output_type": "display_data"
    }
   ],
   "source": [
    "plots(\"Humidity\")"
   ]
  },
  {
   "cell_type": "markdown",
   "metadata": {},
   "source": [
    "This shows humidity (as a percentage) by latitude, and there doesn't appear to be much correlation between the two."
   ]
  },
  {
   "cell_type": "code",
   "execution_count": 14,
   "metadata": {},
   "outputs": [
    {
     "data": {
      "image/png": "[encoded data removed]",
      "text/plain": [
       "<Figure size 432x288 with 1 Axes>"
      ]
     },
     "metadata": {
      "needs_background": "light"
     },
     "output_type": "display_data"
    }
   ],
   "source": [
    "plots(\"Cloudiness\")"
   ]
  },
  {
   "cell_type": "markdown",
   "metadata": {},
   "source": [
    "Here we see cloudiness (also as a percentage) as a function of latitude, and again doesn't appear to have a high correlation - cloudiness seems scattered randomly irrespective of latitude."
   ]
  },
  {
   "cell_type": "code",
   "execution_count": 15,
   "metadata": {
    "scrolled": true
   },
   "outputs": [
    {
     "data": {
      "image/png": "[encoded data removed]",
      "text/plain": [
       "<Figure size 432x288 with 1 Axes>"
      ]
     },
     "metadata": {
      "needs_background": "light"
     },
     "output_type": "display_data"
    }
   ],
   "source": [
    "plots(\"Windspeed\")"
   ]
  },
  {
   "cell_type": "markdown",
   "metadata": {},
   "source": [
    "This is windspeed plotted by latitude. It appears that most wind speeds are around 0-5 mph, and scattered fairly randomly no matter the latitude."
   ]
  },
  {
   "cell_type": "markdown",
   "metadata": {},
   "source": [
    "## Linear Regression"
   ]
  },
  {
   "cell_type": "code",
   "execution_count": 16,
   "metadata": {},
   "outputs": [],
   "source": [
    "# filter dataset into northern and southern hemisphere\n",
    "Northern = df[df['Latitude'] > 0]\n",
    "Southern = df[df['Latitude'] < 0]\n",
    "\n",
    "dict_key = {\"Northern\": Northern, \"Southern\": Southern, \"All\": df}\n",
    "\n",
    "# define function to calculate and plot linear regression over scatterplot, vs latitude\n",
    "# inputs are STRINGS\n",
    "\n",
    "def regress(hemi, var):\n",
    "    hemi_data = dict_key[hemi] #look up dataset\n",
    "    x = hemi_data['Latitude']\n",
    "    y = hemi_data[var]\n",
    "    \n",
    "    # calculate repression\n",
    "    (slope, intercept, rvalue, pvalue, stderr) = stats.linregress(x, y)\n",
    "    regress = x * slope + intercept\n",
    "    \n",
    "    # plot\n",
    "    fig, ax = plt.subplots()\n",
    "    ax.scatter(x, y)\n",
    "    ax.plot(x, regress, color = \"green\")\n",
    "    \n",
    "    # format\n",
    "    ax.set(xlabel = \"Latitude\",\n",
    "          ylabel = f\"{var} ({units[var]})\",\n",
    "          title = f\"Latitude vs {var}: {hemi} Hemisphere\")\n",
    "    \n",
    "    # print rvalue and equation\n",
    "    print(f\"The r-value is: {rvalue}\")\n",
    "    print(f\"y = {round(slope,2)}x + {round(intercept,2)}\")\n",
    "    # @TODO: plot equation over graph\n",
    "    \n",
    "    plt.savefig(f\"Lat vs {var} linear regression.png\")\n",
    "    "
   ]
  },
  {
   "cell_type": "code",
   "execution_count": 17,
   "metadata": {
    "scrolled": false
   },
   "outputs": [
    {
     "name": "stdout",
     "output_type": "stream",
     "text": [
      "The r-value is: -0.8821251453043751\n",
      "y = -0.87x + 89.07\n"
     ]
    },
    {
     "data": {
      "image/png": "[encoded data removed]",
      "text/plain": [
       "<Figure size 432x288 with 1 Axes>"
      ]
     },
     "metadata": {
      "needs_background": "light"
     },
     "output_type": "display_data"
    }
   ],
   "source": [
    "regress(\"Northern\", 'Max Temperature')"
   ]
  },
  {
   "cell_type": "code",
   "execution_count": 18,
   "metadata": {},
   "outputs": [
    {
     "name": "stdout",
     "output_type": "stream",
     "text": [
      "The r-value is: 0.7032500874131127\n",
      "y = 0.56x + 81.47\n"
     ]
    },
    {
     "data": {
      "image/png": "[encoded data removed]",
      "text/plain": [
       "<Figure size 432x288 with 1 Axes>"
      ]
     },
     "metadata": {
      "needs_background": "light"
     },
     "output_type": "display_data"
    }
   ],
   "source": [
    "regress(\"Southern\", 'Max Temperature')"
   ]
  },
  {
   "cell_type": "markdown",
   "metadata": {},
   "source": [
    "Both of these plots have significant r-values, and appear to show that moving away from the equator generally decreases maximum temperature. (Interestingly, the northern hemisphere's slope is much higher, though the southern hemisphere does have fewer points and a smaller range of latitudes.)"
   ]
  },
  {
   "cell_type": "code",
   "execution_count": 19,
   "metadata": {},
   "outputs": [
    {
     "name": "stdout",
     "output_type": "stream",
     "text": [
      "The r-value is: 0.11262034613468487\n",
      "y = 0.11x + 72.31\n"
     ]
    },
    {
     "data": {
      "image/png": "[encoded data removed]",
      "text/plain": [
       "<Figure size 432x288 with 1 Axes>"
      ]
     },
     "metadata": {
      "needs_background": "light"
     },
     "output_type": "display_data"
    }
   ],
   "source": [
    "regress(\"Northern\", 'Humidity')"
   ]
  },
  {
   "cell_type": "code",
   "execution_count": 20,
   "metadata": {
    "scrolled": false
   },
   "outputs": [
    {
     "name": "stdout",
     "output_type": "stream",
     "text": [
      "The r-value is: 0.07994874099449334\n",
      "y = 0.1x + 73.52\n"
     ]
    },
    {
     "data": {
      "image/png": "[encoded data removed]",
      "text/plain": [
       "<Figure size 432x288 with 1 Axes>"
      ]
     },
     "metadata": {
      "needs_background": "light"
     },
     "output_type": "display_data"
    }
   ],
   "source": [
    "regress(\"Southern\", 'Humidity')"
   ]
  },
  {
   "cell_type": "markdown",
   "metadata": {},
   "source": [
    "These two plots taken together seem to say that humidity does not correlate with temperature, certainly not in a linear fashion. Looking at them just by eye, I would observe that the area just around the equator has no humidities below about 60%, and the same is somewhat true at high latitudes as well (mostly northern; southern extreme latitudes have very few cities)."
   ]
  },
  {
   "cell_type": "code",
   "execution_count": 22,
   "metadata": {},
   "outputs": [
    {
     "name": "stdout",
     "output_type": "stream",
     "text": [
      "The r-value is: 0.22374688546039143\n",
      "y = 0.02x + 2.5\n"
     ]
    },
    {
     "data": {
      "image/png": "[encoded data removed]",
      "text/plain": [
       "<Figure size 432x288 with 1 Axes>"
      ]
     },
     "metadata": {
      "needs_background": "light"
     },
     "output_type": "display_data"
    }
   ],
   "source": [
    "regress(\"Northern\", 'Windspeed')"
   ]
  },
  {
   "cell_type": "code",
   "execution_count": 23,
   "metadata": {},
   "outputs": [
    {
     "name": "stdout",
     "output_type": "stream",
     "text": [
      "The r-value is: -0.182905936832204\n",
      "y = -0.03x + 2.92\n"
     ]
    },
    {
     "data": {
      "image/png": "[encoded data removed]",
      "text/plain": [
       "<Figure size 432x288 with 1 Axes>"
      ]
     },
     "metadata": {
      "needs_background": "light"
     },
     "output_type": "display_data"
    }
   ],
   "source": [
    "regress(\"Southern\", 'Windspeed')"
   ]
  },
  {
   "cell_type": "markdown",
   "metadata": {},
   "source": [
    "These plots show the relation that windspeed has to latitude in each hemisphere. Given the low r-values, it seems likely that there is little or no relation between the two. "
   ]
  },
  {
   "cell_type": "code",
   "execution_count": 24,
   "metadata": {},
   "outputs": [
    {
     "name": "stdout",
     "output_type": "stream",
     "text": [
      "The r-value is: 0.11085685641717884\n",
      "y = 0.21x + 43.62\n"
     ]
    },
    {
     "data": {
      "image/png": "[encoded data removed]",
      "text/plain": [
       "<Figure size 432x288 with 1 Axes>"
      ]
     },
     "metadata": {
      "needs_background": "light"
     },
     "output_type": "display_data"
    }
   ],
   "source": [
    "regress(\"Northern\", 'Cloudiness')"
   ]
  },
  {
   "cell_type": "code",
   "execution_count": 25,
   "metadata": {},
   "outputs": [
    {
     "name": "stdout",
     "output_type": "stream",
     "text": [
      "The r-value is: 0.03394620105145464\n",
      "y = 0.1x + 48.86\n"
     ]
    },
    {
     "data": {
      "image/png": "[encoded data removed]",
      "text/plain": [
       "<Figure size 432x288 with 1 Axes>"
      ]
     },
     "metadata": {
      "needs_background": "light"
     },
     "output_type": "display_data"
    }
   ],
   "source": [
    "regress(\"Southern\", 'Cloudiness')"
   ]
  },
  {
   "cell_type": "markdown",
   "metadata": {},
   "source": [
    "These plots show the relation that cloudiness has to latitude in each hemisphere. With r-values that low, it seems extremely likely that the two have no relation at all. "
   ]
  }
 ],
 "metadata": {
  "anaconda-cloud": {},
  "kernel_info": {
   "name": "python3"
  },
  "kernelspec": {
   "display_name": "Python 3",
   "language": "python",
   "name": "python3"
  },
  "language_info": {
   "codemirror_mode": {
    "name": "ipython",
    "version": 3
   },
   "file_extension": ".py",
   "mimetype": "text/x-python",
   "name": "python",
   "nbconvert_exporter": "python",
   "pygments_lexer": "ipython3",
   "version": "3.8.3"
  },
  "latex_envs": {
   "LaTeX_envs_menu_present": true,
   "autoclose": false,
   "autocomplete": true,
   "bibliofile": "biblio.bib",
   "cite_by": "apalike",
   "current_citInitial": 1,
   "eqLabelWithNumbers": true,
   "eqNumInitial": 1,
   "hotkeys": {
    "equation": "Ctrl-E",
    "itemize": "Ctrl-I"
   },
   "labels_anchors": false,
   "latex_user_defs": false,
   "report_style_numbering": false,
   "user_envs_cfg": false
  },
  "nteract": {
   "version": "0.12.3"
  }
 },
 "nbformat": 4,
 "nbformat_minor": 2
}
