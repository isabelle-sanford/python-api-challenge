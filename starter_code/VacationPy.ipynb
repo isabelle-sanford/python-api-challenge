{
 "cells": [
  {
   "cell_type": "markdown",
   "metadata": {},
   "source": [
    "# VacationPy\n",
    "----\n",
    "\n",
    "#### Note\n",
    "* Keep an eye on your API usage. Use https://developers.google.com/maps/reporting/gmp-reporting as reference for how to monitor your usage and billing.\n",
    "\n",
    "* Instructions have been included for each segment. You do not have to follow them exactly, but they are included to help you think through the steps."
   ]
  },
  {
   "cell_type": "code",
   "execution_count": 2,
   "metadata": {},
   "outputs": [],
   "source": [
    "# Dependencies and Setup\n",
    "import matplotlib.pyplot as plt\n",
    "import pandas as pd\n",
    "import numpy as np\n",
    "import requests\n",
    "import gmaps\n",
    "import os\n",
    "\n",
    "# Import API key\n",
    "from api_keys import g_key"
   ]
  },
  {
   "cell_type": "markdown",
   "metadata": {},
   "source": [
    "### Store Part I results into DataFrame\n",
    "* Load the csv exported in Part I to a DataFrame"
   ]
  },
  {
   "cell_type": "code",
   "execution_count": 8,
   "metadata": {},
   "outputs": [
    {
     "data": {
      "text/html": [
       "<div>\n",
       "<style scoped>\n",
       "    .dataframe tbody tr th:only-of-type {\n",
       "        vertical-align: middle;\n",
       "    }\n",
       "\n",
       "    .dataframe tbody tr th {\n",
       "        vertical-align: top;\n",
       "    }\n",
       "\n",
       "    .dataframe thead th {\n",
       "        text-align: right;\n",
       "    }\n",
       "</style>\n",
       "<table border=\"1\" class=\"dataframe\">\n",
       "  <thead>\n",
       "    <tr style=\"text-align: right;\">\n",
       "      <th></th>\n",
       "      <th>city</th>\n",
       "      <th>lat</th>\n",
       "      <th>lng</th>\n",
       "      <th>max_temp</th>\n",
       "      <th>humidity</th>\n",
       "      <th>wind_speed</th>\n",
       "      <th>cloudiness</th>\n",
       "      <th>date</th>\n",
       "      <th>country</th>\n",
       "    </tr>\n",
       "  </thead>\n",
       "  <tbody>\n",
       "    <tr>\n",
       "      <th>0</th>\n",
       "      <td>Paamiut</td>\n",
       "      <td>61.99</td>\n",
       "      <td>-49.67</td>\n",
       "      <td>41.540</td>\n",
       "      <td>85</td>\n",
       "      <td>3.41</td>\n",
       "      <td>100</td>\n",
       "      <td>1602967162</td>\n",
       "      <td>GL</td>\n",
       "    </tr>\n",
       "    <tr>\n",
       "      <th>1</th>\n",
       "      <td>Rikitea</td>\n",
       "      <td>-23.12</td>\n",
       "      <td>-134.97</td>\n",
       "      <td>74.228</td>\n",
       "      <td>79</td>\n",
       "      <td>9.54</td>\n",
       "      <td>100</td>\n",
       "      <td>1602967162</td>\n",
       "      <td>PF</td>\n",
       "    </tr>\n",
       "    <tr>\n",
       "      <th>2</th>\n",
       "      <td>Tiksi</td>\n",
       "      <td>71.69</td>\n",
       "      <td>128.87</td>\n",
       "      <td>18.950</td>\n",
       "      <td>97</td>\n",
       "      <td>5.07</td>\n",
       "      <td>100</td>\n",
       "      <td>1602967163</td>\n",
       "      <td>RU</td>\n",
       "    </tr>\n",
       "    <tr>\n",
       "      <th>3</th>\n",
       "      <td>Vaini</td>\n",
       "      <td>-21.20</td>\n",
       "      <td>-175.20</td>\n",
       "      <td>77.000</td>\n",
       "      <td>94</td>\n",
       "      <td>5.10</td>\n",
       "      <td>75</td>\n",
       "      <td>1602967163</td>\n",
       "      <td>TO</td>\n",
       "    </tr>\n",
       "    <tr>\n",
       "      <th>4</th>\n",
       "      <td>Punta Arenas</td>\n",
       "      <td>-53.15</td>\n",
       "      <td>-70.92</td>\n",
       "      <td>44.600</td>\n",
       "      <td>93</td>\n",
       "      <td>6.70</td>\n",
       "      <td>100</td>\n",
       "      <td>1602967163</td>\n",
       "      <td>CL</td>\n",
       "    </tr>\n",
       "  </tbody>\n",
       "</table>\n",
       "</div>"
      ],
      "text/plain": [
       "           city    lat     lng  max_temp  humidity  wind_speed  cloudiness  \\\n",
       "0       Paamiut  61.99  -49.67    41.540        85        3.41         100   \n",
       "1       Rikitea -23.12 -134.97    74.228        79        9.54         100   \n",
       "2         Tiksi  71.69  128.87    18.950        97        5.07         100   \n",
       "3         Vaini -21.20 -175.20    77.000        94        5.10          75   \n",
       "4  Punta Arenas -53.15  -70.92    44.600        93        6.70         100   \n",
       "\n",
       "         date country  \n",
       "0  1602967162      GL  \n",
       "1  1602967162      PF  \n",
       "2  1602967163      RU  \n",
       "3  1602967163      TO  \n",
       "4  1602967163      CL  "
      ]
     },
     "execution_count": 8,
     "metadata": {},
     "output_type": "execute_result"
    }
   ],
   "source": [
    "df = pd.read_csv(\"weather_data.csv\")\n",
    "df.head()"
   ]
  },
  {
   "cell_type": "markdown",
   "metadata": {},
   "source": [
    "### Humidity Heatmap\n",
    "* Configure gmaps.\n",
    "* Use the Lat and Lng as locations and Humidity as the weight.\n",
    "* Add Heatmap layer to map."
   ]
  },
  {
   "cell_type": "code",
   "execution_count": 5,
   "metadata": {},
   "outputs": [],
   "source": [
    "gmaps.configure(api_key=g_key)"
   ]
  },
  {
   "cell_type": "code",
   "execution_count": 10,
   "metadata": {},
   "outputs": [
    {
     "data": {
      "application/vnd.jupyter.widget-view+json": {
       "model_id": "3c57b7a43c97435aab42ce3815b18752",
       "version_major": 2,
       "version_minor": 0
      },
      "text/plain": [
       "Figure(layout=FigureLayout(height='420px'))"
      ]
     },
     "metadata": {},
     "output_type": "display_data"
    }
   ],
   "source": [
    "# Plot Heatmap\n",
    "fig = gmaps.figure()\n",
    "\n",
    "# Create heat layer\n",
    "heat_layer = gmaps.heatmap_layer(df[[\"lat\", \"lng\"]], weights=df[\"humidity\"]) \n",
    "#                                  dissipating=False, max_intensity=10,\n",
    "#                                  point_radius=1)\n",
    "\n",
    "\n",
    "# Add layer\n",
    "fig.add_layer(heat_layer)\n",
    "\n",
    "# Display figure\n",
    "fig"
   ]
  },
  {
   "cell_type": "markdown",
   "metadata": {},
   "source": [
    "### Create new DataFrame fitting weather criteria\n",
    "* Narrow down the cities to fit weather conditions.\n",
    "* Drop any rows will null values."
   ]
  },
  {
   "cell_type": "code",
   "execution_count": 19,
   "metadata": {},
   "outputs": [
    {
     "data": {
      "text/html": [
       "<div>\n",
       "<style scoped>\n",
       "    .dataframe tbody tr th:only-of-type {\n",
       "        vertical-align: middle;\n",
       "    }\n",
       "\n",
       "    .dataframe tbody tr th {\n",
       "        vertical-align: top;\n",
       "    }\n",
       "\n",
       "    .dataframe thead th {\n",
       "        text-align: right;\n",
       "    }\n",
       "</style>\n",
       "<table border=\"1\" class=\"dataframe\">\n",
       "  <thead>\n",
       "    <tr style=\"text-align: right;\">\n",
       "      <th></th>\n",
       "      <th>city</th>\n",
       "      <th>lat</th>\n",
       "      <th>lng</th>\n",
       "      <th>max_temp</th>\n",
       "      <th>humidity</th>\n",
       "      <th>wind_speed</th>\n",
       "      <th>cloudiness</th>\n",
       "      <th>date</th>\n",
       "      <th>country</th>\n",
       "    </tr>\n",
       "  </thead>\n",
       "  <tbody>\n",
       "    <tr>\n",
       "      <th>18</th>\n",
       "      <td>Loreto</td>\n",
       "      <td>22.27</td>\n",
       "      <td>-101.97</td>\n",
       "      <td>74.858</td>\n",
       "      <td>26</td>\n",
       "      <td>1.80</td>\n",
       "      <td>0</td>\n",
       "      <td>1602967168</td>\n",
       "      <td>MX</td>\n",
       "    </tr>\n",
       "    <tr>\n",
       "      <th>43</th>\n",
       "      <td>Rawson</td>\n",
       "      <td>-43.30</td>\n",
       "      <td>-65.10</td>\n",
       "      <td>72.320</td>\n",
       "      <td>22</td>\n",
       "      <td>8.55</td>\n",
       "      <td>40</td>\n",
       "      <td>1602967174</td>\n",
       "      <td>AR</td>\n",
       "    </tr>\n",
       "    <tr>\n",
       "      <th>180</th>\n",
       "      <td>Weiser</td>\n",
       "      <td>44.25</td>\n",
       "      <td>-116.97</td>\n",
       "      <td>73.400</td>\n",
       "      <td>27</td>\n",
       "      <td>3.22</td>\n",
       "      <td>1</td>\n",
       "      <td>1602967212</td>\n",
       "      <td>US</td>\n",
       "    </tr>\n",
       "    <tr>\n",
       "      <th>261</th>\n",
       "      <td>Buraidah</td>\n",
       "      <td>26.33</td>\n",
       "      <td>43.98</td>\n",
       "      <td>71.600</td>\n",
       "      <td>26</td>\n",
       "      <td>1.00</td>\n",
       "      <td>0</td>\n",
       "      <td>1602967235</td>\n",
       "      <td>SA</td>\n",
       "    </tr>\n",
       "    <tr>\n",
       "      <th>412</th>\n",
       "      <td>Lebanon</td>\n",
       "      <td>36.21</td>\n",
       "      <td>-86.29</td>\n",
       "      <td>66.992</td>\n",
       "      <td>23</td>\n",
       "      <td>2.10</td>\n",
       "      <td>1</td>\n",
       "      <td>1602967276</td>\n",
       "      <td>US</td>\n",
       "    </tr>\n",
       "    <tr>\n",
       "      <th>437</th>\n",
       "      <td>Gobabis</td>\n",
       "      <td>-22.45</td>\n",
       "      <td>18.97</td>\n",
       "      <td>71.546</td>\n",
       "      <td>21</td>\n",
       "      <td>5.26</td>\n",
       "      <td>32</td>\n",
       "      <td>1602967284</td>\n",
       "      <td>NaN</td>\n",
       "    </tr>\n",
       "  </tbody>\n",
       "</table>\n",
       "</div>"
      ],
      "text/plain": [
       "         city    lat     lng  max_temp  humidity  wind_speed  cloudiness  \\\n",
       "18     Loreto  22.27 -101.97    74.858        26        1.80           0   \n",
       "43     Rawson -43.30  -65.10    72.320        22        8.55          40   \n",
       "180    Weiser  44.25 -116.97    73.400        27        3.22           1   \n",
       "261  Buraidah  26.33   43.98    71.600        26        1.00           0   \n",
       "412   Lebanon  36.21  -86.29    66.992        23        2.10           1   \n",
       "437   Gobabis -22.45   18.97    71.546        21        5.26          32   \n",
       "\n",
       "           date country  \n",
       "18   1602967168      MX  \n",
       "43   1602967174      AR  \n",
       "180  1602967212      US  \n",
       "261  1602967235      SA  \n",
       "412  1602967276      US  \n",
       "437  1602967284     NaN  "
      ]
     },
     "execution_count": 19,
     "metadata": {},
     "output_type": "execute_result"
    }
   ],
   "source": [
    "# * Narrow down the DataFrame to find your ideal weather condition. For example:\n",
    "\n",
    "#   * A max temperature lower than 80 degrees but higher than 70.\n",
    "\n",
    "#   * Wind speed less than 10 mph.\n",
    "\n",
    "#   * Zero cloudiness.\n",
    "\n",
    "#   * Drop any rows that don't contain all three conditions. You want to be sure the weather is ideal.\n",
    "\n",
    "\n",
    "\n",
    "filtered_df = df[df[\"max_temp\"] < 75]\n",
    "filtered_df = filtered_df[filtered_df[\"max_temp\"] > 60]\n",
    "filtered_df = filtered_df[filtered_df[\"humidity\"] < 30]\n",
    "filtered_df = filtered_df[filtered_df[\"humidity\"] > 20]\n",
    "filtered_df = filtered_df[filtered_df[\"wind_speed\"] < 10]\n",
    "hotel_df = filtered_df[filtered_df[\"cloudiness\"] < 75]\n",
    "\n",
    "hotel_df\n"
   ]
  },
  {
   "cell_type": "markdown",
   "metadata": {},
   "source": [
    "### Hotel Map\n",
    "* Store into variable named `hotel_df`.\n",
    "* Add a \"Hotel Name\" column to the DataFrame.\n",
    "* Set parameters to search for hotels with 5000 meters.\n",
    "* Hit the Google Places API for each city's coordinates.\n",
    "* Store the first Hotel result into the DataFrame.\n",
    "* Plot markers on top of the heatmap."
   ]
  },
  {
   "cell_type": "code",
   "execution_count": 39,
   "metadata": {},
   "outputs": [
    {
     "data": {
      "text/plain": [
       "6"
      ]
     },
     "execution_count": 39,
     "metadata": {},
     "output_type": "execute_result"
    }
   ],
   "source": [
    "len(hotel_df)"
   ]
  },
  {
   "cell_type": "code",
   "execution_count": 40,
   "metadata": {},
   "outputs": [
    {
     "data": {
      "text/plain": [
       "[(22.27, -101.97),\n",
       " (-43.3, -65.1),\n",
       " (44.25, -116.97),\n",
       " (26.33, 43.98),\n",
       " (36.21, -86.29),\n",
       " (-22.45, 18.97)]"
      ]
     },
     "execution_count": 40,
     "metadata": {},
     "output_type": "execute_result"
    }
   ],
   "source": [
    "lats = hotel_df['lat'].tolist()\n",
    "lngs = hotel_df['lng'].tolist()\n",
    "\n",
    "locs = list(zip(*[lats, lngs]))\n",
    "locs"
   ]
  },
  {
   "cell_type": "code",
   "execution_count": 64,
   "metadata": {},
   "outputs": [],
   "source": [
    "\n",
    "hotels = []\n",
    "for i in range(len(hotel_df)):\n",
    "    coordinates = f\"{locs[i][0]}, {locs[i][1]}\"\n",
    "    target_search = \"hotel\"\n",
    "    radius = 5000\n",
    "\n",
    "    # set up a parameters dictionary\n",
    "    params = {\n",
    "        \"location\": coordinates,\n",
    "        \"keyword\": target_search,\n",
    "        \"radius\": radius,\n",
    "#        \"type\": target_type,\n",
    "        \"key\": g_key\n",
    "    }\n",
    "\n",
    "    # base url\n",
    "    base_url = \"https://maps.googleapis.com/maps/api/place/nearbysearch/json\"\n",
    "\n",
    "    # run a request using our params dictionary\n",
    "    response = requests.get(base_url, params=params)\n",
    "    if response.status_code > 399:\n",
    "        print(response.status_code)\n",
    "        break\n",
    "    \n",
    "    hotels.append(response.json())\n",
    "    "
   ]
  },
  {
   "cell_type": "code",
   "execution_count": 68,
   "metadata": {},
   "outputs": [
    {
     "name": "stdout",
     "output_type": "stream",
     "text": [
      "dict_keys(['business_status', 'geometry', 'icon', 'name', 'photos', 'place_id', 'plus_code', 'rating', 'reference', 'scope', 'types', 'user_ratings_total', 'vicinity'])\n"
     ]
    },
    {
     "data": {
      "text/plain": [
       "'Miguel Angel Hotel'"
      ]
     },
     "execution_count": 68,
     "metadata": {},
     "output_type": "execute_result"
    }
   ],
   "source": [
    "print(hotels[0]['results'][0].keys())\n",
    "\n",
    "hotels[0]['results'][0]['name']"
   ]
  },
  {
   "cell_type": "code",
   "execution_count": 73,
   "metadata": {},
   "outputs": [
    {
     "data": {
      "text/html": [
       "<div>\n",
       "<style scoped>\n",
       "    .dataframe tbody tr th:only-of-type {\n",
       "        vertical-align: middle;\n",
       "    }\n",
       "\n",
       "    .dataframe tbody tr th {\n",
       "        vertical-align: top;\n",
       "    }\n",
       "\n",
       "    .dataframe thead th {\n",
       "        text-align: right;\n",
       "    }\n",
       "</style>\n",
       "<table border=\"1\" class=\"dataframe\">\n",
       "  <thead>\n",
       "    <tr style=\"text-align: right;\">\n",
       "      <th></th>\n",
       "      <th>city</th>\n",
       "      <th>lat</th>\n",
       "      <th>lng</th>\n",
       "      <th>max_temp</th>\n",
       "      <th>humidity</th>\n",
       "      <th>wind_speed</th>\n",
       "      <th>cloudiness</th>\n",
       "      <th>date</th>\n",
       "      <th>country</th>\n",
       "      <th>Hotel Name</th>\n",
       "    </tr>\n",
       "  </thead>\n",
       "  <tbody>\n",
       "    <tr>\n",
       "      <th>18</th>\n",
       "      <td>Loreto</td>\n",
       "      <td>22.27</td>\n",
       "      <td>-101.97</td>\n",
       "      <td>74.858</td>\n",
       "      <td>26</td>\n",
       "      <td>1.80</td>\n",
       "      <td>0</td>\n",
       "      <td>1602967168</td>\n",
       "      <td>MX</td>\n",
       "      <td>Miguel Angel Hotel</td>\n",
       "    </tr>\n",
       "    <tr>\n",
       "      <th>43</th>\n",
       "      <td>Rawson</td>\n",
       "      <td>-43.30</td>\n",
       "      <td>-65.10</td>\n",
       "      <td>72.320</td>\n",
       "      <td>22</td>\n",
       "      <td>8.55</td>\n",
       "      <td>40</td>\n",
       "      <td>1602967174</td>\n",
       "      <td>AR</td>\n",
       "      <td>Hotel Punta León</td>\n",
       "    </tr>\n",
       "    <tr>\n",
       "      <th>180</th>\n",
       "      <td>Weiser</td>\n",
       "      <td>44.25</td>\n",
       "      <td>-116.97</td>\n",
       "      <td>73.400</td>\n",
       "      <td>27</td>\n",
       "      <td>3.22</td>\n",
       "      <td>1</td>\n",
       "      <td>1602967212</td>\n",
       "      <td>US</td>\n",
       "      <td>State Street Motel</td>\n",
       "    </tr>\n",
       "    <tr>\n",
       "      <th>261</th>\n",
       "      <td>Buraidah</td>\n",
       "      <td>26.33</td>\n",
       "      <td>43.98</td>\n",
       "      <td>71.600</td>\n",
       "      <td>26</td>\n",
       "      <td>1.00</td>\n",
       "      <td>0</td>\n",
       "      <td>1602967235</td>\n",
       "      <td>SA</td>\n",
       "      <td>فندق براند القصيم</td>\n",
       "    </tr>\n",
       "    <tr>\n",
       "      <th>412</th>\n",
       "      <td>Lebanon</td>\n",
       "      <td>36.21</td>\n",
       "      <td>-86.29</td>\n",
       "      <td>66.992</td>\n",
       "      <td>23</td>\n",
       "      <td>2.10</td>\n",
       "      <td>1</td>\n",
       "      <td>1602967276</td>\n",
       "      <td>US</td>\n",
       "      <td>Avid Hotels Nashville - Lebanon</td>\n",
       "    </tr>\n",
       "    <tr>\n",
       "      <th>437</th>\n",
       "      <td>Gobabis</td>\n",
       "      <td>-22.45</td>\n",
       "      <td>18.97</td>\n",
       "      <td>71.546</td>\n",
       "      <td>21</td>\n",
       "      <td>5.26</td>\n",
       "      <td>32</td>\n",
       "      <td>1602967284</td>\n",
       "      <td>NaN</td>\n",
       "      <td>Goba Lodge</td>\n",
       "    </tr>\n",
       "  </tbody>\n",
       "</table>\n",
       "</div>"
      ],
      "text/plain": [
       "         city    lat     lng  max_temp  humidity  wind_speed  cloudiness  \\\n",
       "18     Loreto  22.27 -101.97    74.858        26        1.80           0   \n",
       "43     Rawson -43.30  -65.10    72.320        22        8.55          40   \n",
       "180    Weiser  44.25 -116.97    73.400        27        3.22           1   \n",
       "261  Buraidah  26.33   43.98    71.600        26        1.00           0   \n",
       "412   Lebanon  36.21  -86.29    66.992        23        2.10           1   \n",
       "437   Gobabis -22.45   18.97    71.546        21        5.26          32   \n",
       "\n",
       "           date country                       Hotel Name  \n",
       "18   1602967168      MX               Miguel Angel Hotel  \n",
       "43   1602967174      AR                 Hotel Punta León  \n",
       "180  1602967212      US               State Street Motel  \n",
       "261  1602967235      SA                فندق براند القصيم  \n",
       "412  1602967276      US  Avid Hotels Nashville - Lebanon  \n",
       "437  1602967284     NaN                       Goba Lodge  "
      ]
     },
     "execution_count": 73,
     "metadata": {},
     "output_type": "execute_result"
    }
   ],
   "source": [
    "names = []\n",
    "for j in range(len(hotels)):\n",
    "    names.append(hotels[j]['results'][0]['name'])\n",
    "    \n",
    "\n",
    "hotel_df[\"Hotel Name\"] = names\n",
    "hotel_df"
   ]
  },
  {
   "cell_type": "code",
   "execution_count": 76,
   "metadata": {},
   "outputs": [],
   "source": [
    "# NOTE: Do not change any of the code in this cell\n",
    "\n",
    "# Using the template add the hotel marks to the heatmap\n",
    "info_box_template = \"\"\"\n",
    "<dl>\n",
    "<dt>Name</dt><dd>{Hotel Name}</dd>\n",
    "<dt>City</dt><dd>{city}</dd>\n",
    "<dt>Country</dt><dd>{country}</dd>\n",
    "</dl>\n",
    "\"\"\"\n",
    "# Store the DataFrame Row\n",
    "# NOTE: be sure to update with your DataFrame name\n",
    "hotel_info = [info_box_template.format(**row) for index, row in hotel_df.iterrows()]\n",
    "locations = hotel_df[[\"lat\", \"lng\"]]"
   ]
  },
  {
   "cell_type": "code",
   "execution_count": 77,
   "metadata": {},
   "outputs": [
    {
     "data": {
      "application/vnd.jupyter.widget-view+json": {
       "model_id": "3c57b7a43c97435aab42ce3815b18752",
       "version_major": 2,
       "version_minor": 0
      },
      "text/plain": [
       "Figure(layout=FigureLayout(height='420px'))"
      ]
     },
     "metadata": {},
     "output_type": "display_data"
    }
   ],
   "source": [
    "\n",
    "markers = gmaps.marker_layer(locations)\n",
    "# Add the layer to the map\n",
    "fig.add_layer(markers)\n",
    "fig\n",
    "\n",
    "\n"
   ]
  },
  {
   "cell_type": "code",
   "execution_count": null,
   "metadata": {},
   "outputs": [],
   "source": []
  }
 ],
 "metadata": {
  "kernelspec": {
   "display_name": "Python 3",
   "language": "python",
   "name": "python3"
  },
  "language_info": {
   "codemirror_mode": {
    "name": "ipython",
    "version": 3
   },
   "file_extension": ".py",
   "mimetype": "text/x-python",
   "name": "python",
   "nbconvert_exporter": "python",
   "pygments_lexer": "ipython3",
   "version": "3.8.3"
  },
  "latex_envs": {
   "LaTeX_envs_menu_present": true,
   "autoclose": false,
   "autocomplete": true,
   "bibliofile": "biblio.bib",
   "cite_by": "apalike",
   "current_citInitial": 1,
   "eqLabelWithNumbers": true,
   "eqNumInitial": 1,
   "hotkeys": {
    "equation": "Ctrl-E",
    "itemize": "Ctrl-I"
   },
   "labels_anchors": false,
   "latex_user_defs": false,
   "report_style_numbering": false,
   "user_envs_cfg": false
  }
 },
 "nbformat": 4,
 "nbformat_minor": 4
}
