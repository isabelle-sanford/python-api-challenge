{
 "cells": [
  {
   "cell_type": "markdown",
   "metadata": {},
   "source": [
    "# VacationPy\n",
    "----\n",
    "\n",
    "#### Note\n",
    "* Keep an eye on your API usage. Use https://developers.google.com/maps/reporting/gmp-reporting as reference for how to monitor your usage and billing.\n",
    "\n",
    "* Instructions have been included for each segment. You do not have to follow them exactly, but they are included to help you think through the steps."
   ]
  },
  {
   "cell_type": "code",
   "execution_count": 1,
   "metadata": {},
   "outputs": [
    {
     "name": "stderr",
     "output_type": "stream",
     "text": [
      "Enabling notebook extension jupyter-gmaps/extension...\n",
      "      - Validating: ok\n"
     ]
    }
   ],
   "source": [
    "!jupyter nbextension enable --py gmaps"
   ]
  },
  {
   "cell_type": "code",
   "execution_count": 2,
   "metadata": {},
   "outputs": [],
   "source": [
    "# Dependencies and Setup\n",
    "import matplotlib.pyplot as plt\n",
    "import pandas as pd\n",
    "import numpy as np\n",
    "import requests\n",
    "import gmaps\n",
    "import os\n",
    "\n",
    "# Import API key\n",
    "from api_keys import g_key"
   ]
  },
  {
   "cell_type": "code",
   "execution_count": 3,
   "metadata": {
    "scrolled": true
   },
   "outputs": [
    {
     "data": {
      "text/html": [
       "<div>\n",
       "<style scoped>\n",
       "    .dataframe tbody tr th:only-of-type {\n",
       "        vertical-align: middle;\n",
       "    }\n",
       "\n",
       "    .dataframe tbody tr th {\n",
       "        vertical-align: top;\n",
       "    }\n",
       "\n",
       "    .dataframe thead th {\n",
       "        text-align: right;\n",
       "    }\n",
       "</style>\n",
       "<table border=\"1\" class=\"dataframe\">\n",
       "  <thead>\n",
       "    <tr style=\"text-align: right;\">\n",
       "      <th></th>\n",
       "      <th>City</th>\n",
       "      <th>Latitude</th>\n",
       "      <th>Longitude</th>\n",
       "      <th>Max Temperature</th>\n",
       "      <th>Humidity</th>\n",
       "      <th>Windspeed</th>\n",
       "      <th>Cloudiness</th>\n",
       "      <th>Date</th>\n",
       "      <th>Country</th>\n",
       "    </tr>\n",
       "  </thead>\n",
       "  <tbody>\n",
       "    <tr>\n",
       "      <th>0</th>\n",
       "      <td>Rikitea</td>\n",
       "      <td>-23.12</td>\n",
       "      <td>-134.97</td>\n",
       "      <td>74.588</td>\n",
       "      <td>80</td>\n",
       "      <td>8.78</td>\n",
       "      <td>100</td>\n",
       "      <td>1602982257</td>\n",
       "      <td>PF</td>\n",
       "    </tr>\n",
       "    <tr>\n",
       "      <th>1</th>\n",
       "      <td>Vaini</td>\n",
       "      <td>-21.20</td>\n",
       "      <td>-175.20</td>\n",
       "      <td>78.800</td>\n",
       "      <td>83</td>\n",
       "      <td>8.20</td>\n",
       "      <td>75</td>\n",
       "      <td>1602982258</td>\n",
       "      <td>TO</td>\n",
       "    </tr>\n",
       "    <tr>\n",
       "      <th>2</th>\n",
       "      <td>Blyznyuky</td>\n",
       "      <td>48.86</td>\n",
       "      <td>36.56</td>\n",
       "      <td>60.728</td>\n",
       "      <td>89</td>\n",
       "      <td>7.10</td>\n",
       "      <td>100</td>\n",
       "      <td>1602982258</td>\n",
       "      <td>UA</td>\n",
       "    </tr>\n",
       "    <tr>\n",
       "      <th>3</th>\n",
       "      <td>Dunedin</td>\n",
       "      <td>-45.87</td>\n",
       "      <td>170.50</td>\n",
       "      <td>53.006</td>\n",
       "      <td>70</td>\n",
       "      <td>0.89</td>\n",
       "      <td>53</td>\n",
       "      <td>1602982259</td>\n",
       "      <td>NZ</td>\n",
       "    </tr>\n",
       "    <tr>\n",
       "      <th>4</th>\n",
       "      <td>Abu Dhabi</td>\n",
       "      <td>24.47</td>\n",
       "      <td>54.37</td>\n",
       "      <td>77.000</td>\n",
       "      <td>57</td>\n",
       "      <td>1.50</td>\n",
       "      <td>0</td>\n",
       "      <td>1602982162</td>\n",
       "      <td>AE</td>\n",
       "    </tr>\n",
       "  </tbody>\n",
       "</table>\n",
       "</div>"
      ],
      "text/plain": [
       "        City  Latitude  Longitude  Max Temperature  Humidity  Windspeed  \\\n",
       "0    Rikitea    -23.12    -134.97           74.588        80       8.78   \n",
       "1      Vaini    -21.20    -175.20           78.800        83       8.20   \n",
       "2  Blyznyuky     48.86      36.56           60.728        89       7.10   \n",
       "3    Dunedin    -45.87     170.50           53.006        70       0.89   \n",
       "4  Abu Dhabi     24.47      54.37           77.000        57       1.50   \n",
       "\n",
       "   Cloudiness        Date Country  \n",
       "0         100  1602982257      PF  \n",
       "1          75  1602982258      TO  \n",
       "2         100  1602982258      UA  \n",
       "3          53  1602982259      NZ  \n",
       "4           0  1602982162      AE  "
      ]
     },
     "execution_count": 3,
     "metadata": {},
     "output_type": "execute_result"
    }
   ],
   "source": [
    "# load in the csv from part 1 as a dataframe\n",
    "df = pd.read_csv(\"weather_data.csv\")\n",
    "df.head()"
   ]
  },
  {
   "cell_type": "code",
   "execution_count": 4,
   "metadata": {},
   "outputs": [],
   "source": [
    "# configure gmaps\n",
    "gmaps.configure(api_key=g_key)"
   ]
  },
  {
   "cell_type": "code",
   "execution_count": 5,
   "metadata": {},
   "outputs": [
    {
     "data": {
      "application/vnd.jupyter.widget-view+json": {
       "model_id": "e8f24a3a578344c6b941e703946cd651",
       "version_major": 2,
       "version_minor": 0
      },
      "text/plain": [
       "Figure(layout=FigureLayout(border='1px solid black', height='500px', margin='0 auto 0 auto', padding='1px', wi…"
      ]
     },
     "metadata": {},
     "output_type": "display_data"
    }
   ],
   "source": [
    "# set up plot\n",
    "figure_layout = {\n",
    "    'width': '500px',\n",
    "    'height': '500px',\n",
    "    'border': '1px solid black',\n",
    "    'padding': '1px',\n",
    "    'margin': '0 auto 0 auto'\n",
    "}\n",
    "fig = gmaps.figure(layout=figure_layout)\n",
    "\n",
    "# Create heat layer\n",
    "heat_layer = gmaps.heatmap_layer(df[[\"Latitude\", \"Longitude\"]], \n",
    "                                 weights=df[\"Humidity\"], \n",
    "                                 max_intensity=100) \n",
    "\n",
    "# Add layer\n",
    "fig.add_layer(heat_layer)\n",
    "\n",
    "# Display figure\n",
    "fig"
   ]
  },
  {
   "cell_type": "markdown",
   "metadata": {},
   "source": [
    "### Create new DataFrame fitting weather criteria\n",
    "* Narrow down the cities to fit weather conditions.\n",
    "* Drop any rows will null values."
   ]
  },
  {
   "cell_type": "code",
   "execution_count": 6,
   "metadata": {},
   "outputs": [
    {
     "data": {
      "text/plain": [
       "9"
      ]
     },
     "execution_count": 6,
     "metadata": {},
     "output_type": "execute_result"
    }
   ],
   "source": [
    "# filter down to ideal conditions\n",
    "filtered_df = df[df[\"Max Temperature\"] < 70]\n",
    "filtered_df = filtered_df[filtered_df[\"Max Temperature\"] > 65]\n",
    "\n",
    "filtered_df = filtered_df[filtered_df[\"Humidity\"] < 75]\n",
    "filtered_df = filtered_df[filtered_df[\"Humidity\"] > 20]\n",
    "\n",
    "filtered_df = filtered_df[filtered_df[\"Windspeed\"] < 8]\n",
    "filtered_df = filtered_df[filtered_df[\"Windspeed\"] > 2]\n",
    "hotel_df = filtered_df[filtered_df[\"Cloudiness\"] < 50]\n",
    "\n",
    "# check number of resulting ideal cities\n",
    "len(hotel_df)"
   ]
  },
  {
   "cell_type": "markdown",
   "metadata": {},
   "source": [
    "### Hotel Map\n",
    "* Store into variable named `hotel_df`.\n",
    "* Add a \"Hotel Name\" column to the DataFrame.\n",
    "* Set parameters to search for hotels with 5000 meters.\n",
    "* Hit the Google Places API for each city's coordinates.\n",
    "* Store the first Hotel result into the DataFrame.\n",
    "* Plot markers on top of the heatmap."
   ]
  },
  {
   "cell_type": "code",
   "execution_count": 7,
   "metadata": {},
   "outputs": [],
   "source": [
    "# make list of (lat, long) pairs\n",
    "lats = hotel_df['Latitude'].tolist()\n",
    "lngs = hotel_df['Longitude'].tolist()\n",
    "locs = list(zip(*[lats, lngs]))"
   ]
  },
  {
   "cell_type": "code",
   "execution_count": 8,
   "metadata": {},
   "outputs": [],
   "source": [
    "\n",
    "hotels = []\n",
    "for i in range(len(hotel_df)):\n",
    "    coordinates = f\"{locs[i][0]}, {locs[i][1]}\"\n",
    "    target_search = \"hotel\"\n",
    "    radius = 5000\n",
    "\n",
    "    # set up a parameters dictionary\n",
    "    params = {\n",
    "        \"location\": coordinates,\n",
    "        \"keyword\": target_search,\n",
    "        \"radius\": radius,\n",
    "        \"key\": g_key\n",
    "    }\n",
    "\n",
    "    # base url\n",
    "    base_url = \"https://maps.googleapis.com/maps/api/place/nearbysearch/json\"\n",
    "\n",
    "    # run a request using our params dictionary\n",
    "    response = requests.get(base_url, params=params)\n",
    "    if response.status_code > 399:\n",
    "        print(response.status_code)\n",
    "        break\n",
    "    \n",
    "    hotels.append(response.json())\n",
    "\n",
    "# now we have a list of hotel results for each location"
   ]
  },
  {
   "cell_type": "code",
   "execution_count": 9,
   "metadata": {},
   "outputs": [
    {
     "name": "stderr",
     "output_type": "stream",
     "text": [
      "<ipython-input-9-9e7879923177>:5: SettingWithCopyWarning: \n",
      "A value is trying to be set on a copy of a slice from a DataFrame.\n",
      "Try using .loc[row_indexer,col_indexer] = value instead\n",
      "\n",
      "See the caveats in the documentation: https://pandas.pydata.org/pandas-docs/stable/user_guide/indexing.html#returning-a-view-versus-a-copy\n",
      "  hotel_df[\"Hotel Name\"] = names\n"
     ]
    },
    {
     "data": {
      "text/html": [
       "<div>\n",
       "<style scoped>\n",
       "    .dataframe tbody tr th:only-of-type {\n",
       "        vertical-align: middle;\n",
       "    }\n",
       "\n",
       "    .dataframe tbody tr th {\n",
       "        vertical-align: top;\n",
       "    }\n",
       "\n",
       "    .dataframe thead th {\n",
       "        text-align: right;\n",
       "    }\n",
       "</style>\n",
       "<table border=\"1\" class=\"dataframe\">\n",
       "  <thead>\n",
       "    <tr style=\"text-align: right;\">\n",
       "      <th></th>\n",
       "      <th>City</th>\n",
       "      <th>Latitude</th>\n",
       "      <th>Longitude</th>\n",
       "      <th>Max Temperature</th>\n",
       "      <th>Humidity</th>\n",
       "      <th>Windspeed</th>\n",
       "      <th>Cloudiness</th>\n",
       "      <th>Date</th>\n",
       "      <th>Country</th>\n",
       "      <th>Hotel Name</th>\n",
       "    </tr>\n",
       "  </thead>\n",
       "  <tbody>\n",
       "    <tr>\n",
       "      <th>88</th>\n",
       "      <td>Margate</td>\n",
       "      <td>-30.86</td>\n",
       "      <td>30.37</td>\n",
       "      <td>67.586</td>\n",
       "      <td>73</td>\n",
       "      <td>3.23</td>\n",
       "      <td>0</td>\n",
       "      <td>1602982282</td>\n",
       "      <td>ZA</td>\n",
       "      <td>St Michaels Sands Hotel and Restaurant</td>\n",
       "    </tr>\n",
       "    <tr>\n",
       "      <th>108</th>\n",
       "      <td>Saint-Leu</td>\n",
       "      <td>-21.15</td>\n",
       "      <td>55.28</td>\n",
       "      <td>69.800</td>\n",
       "      <td>64</td>\n",
       "      <td>3.10</td>\n",
       "      <td>12</td>\n",
       "      <td>1602982287</td>\n",
       "      <td>RE</td>\n",
       "      <td>Iloha Seaview Hotel</td>\n",
       "    </tr>\n",
       "    <tr>\n",
       "      <th>120</th>\n",
       "      <td>Saint-Philippe</td>\n",
       "      <td>-21.36</td>\n",
       "      <td>55.77</td>\n",
       "      <td>69.800</td>\n",
       "      <td>64</td>\n",
       "      <td>3.10</td>\n",
       "      <td>38</td>\n",
       "      <td>1602982291</td>\n",
       "      <td>RE</td>\n",
       "      <td>Les Embruns Du Baril</td>\n",
       "    </tr>\n",
       "    <tr>\n",
       "      <th>269</th>\n",
       "      <td>Camacha</td>\n",
       "      <td>33.08</td>\n",
       "      <td>-16.33</td>\n",
       "      <td>69.800</td>\n",
       "      <td>68</td>\n",
       "      <td>6.20</td>\n",
       "      <td>20</td>\n",
       "      <td>1602982330</td>\n",
       "      <td>PT</td>\n",
       "      <td>Vila Baleira Resort</td>\n",
       "    </tr>\n",
       "    <tr>\n",
       "      <th>300</th>\n",
       "      <td>Kaeo</td>\n",
       "      <td>-35.10</td>\n",
       "      <td>173.78</td>\n",
       "      <td>69.008</td>\n",
       "      <td>62</td>\n",
       "      <td>2.24</td>\n",
       "      <td>0</td>\n",
       "      <td>1602982338</td>\n",
       "      <td>NZ</td>\n",
       "      <td>Pacific Harbour Lodge</td>\n",
       "    </tr>\n",
       "    <tr>\n",
       "      <th>301</th>\n",
       "      <td>Callaway</td>\n",
       "      <td>30.15</td>\n",
       "      <td>-85.57</td>\n",
       "      <td>69.008</td>\n",
       "      <td>56</td>\n",
       "      <td>2.10</td>\n",
       "      <td>1</td>\n",
       "      <td>1602982339</td>\n",
       "      <td>US</td>\n",
       "      <td>Holiday Inn Express &amp; Suites Panama City-Tyndall</td>\n",
       "    </tr>\n",
       "    <tr>\n",
       "      <th>327</th>\n",
       "      <td>Rawson</td>\n",
       "      <td>-43.30</td>\n",
       "      <td>-65.10</td>\n",
       "      <td>68.432</td>\n",
       "      <td>31</td>\n",
       "      <td>7.60</td>\n",
       "      <td>0</td>\n",
       "      <td>1602982211</td>\n",
       "      <td>AR</td>\n",
       "      <td>Hotel Punta León</td>\n",
       "    </tr>\n",
       "    <tr>\n",
       "      <th>368</th>\n",
       "      <td>Ngunguru</td>\n",
       "      <td>-35.62</td>\n",
       "      <td>174.50</td>\n",
       "      <td>69.008</td>\n",
       "      <td>62</td>\n",
       "      <td>2.24</td>\n",
       "      <td>23</td>\n",
       "      <td>1602982359</td>\n",
       "      <td>NZ</td>\n",
       "      <td>Quality Hotel Oceans Tutukaka</td>\n",
       "    </tr>\n",
       "    <tr>\n",
       "      <th>457</th>\n",
       "      <td>Russell</td>\n",
       "      <td>-35.26</td>\n",
       "      <td>174.12</td>\n",
       "      <td>69.008</td>\n",
       "      <td>62</td>\n",
       "      <td>2.24</td>\n",
       "      <td>0</td>\n",
       "      <td>1602982383</td>\n",
       "      <td>NZ</td>\n",
       "      <td>Hananui Lodge &amp; Apartments</td>\n",
       "    </tr>\n",
       "  </tbody>\n",
       "</table>\n",
       "</div>"
      ],
      "text/plain": [
       "               City  Latitude  Longitude  Max Temperature  Humidity  \\\n",
       "88          Margate    -30.86      30.37           67.586        73   \n",
       "108       Saint-Leu    -21.15      55.28           69.800        64   \n",
       "120  Saint-Philippe    -21.36      55.77           69.800        64   \n",
       "269         Camacha     33.08     -16.33           69.800        68   \n",
       "300            Kaeo    -35.10     173.78           69.008        62   \n",
       "301        Callaway     30.15     -85.57           69.008        56   \n",
       "327          Rawson    -43.30     -65.10           68.432        31   \n",
       "368        Ngunguru    -35.62     174.50           69.008        62   \n",
       "457         Russell    -35.26     174.12           69.008        62   \n",
       "\n",
       "     Windspeed  Cloudiness        Date Country  \\\n",
       "88        3.23           0  1602982282      ZA   \n",
       "108       3.10          12  1602982287      RE   \n",
       "120       3.10          38  1602982291      RE   \n",
       "269       6.20          20  1602982330      PT   \n",
       "300       2.24           0  1602982338      NZ   \n",
       "301       2.10           1  1602982339      US   \n",
       "327       7.60           0  1602982211      AR   \n",
       "368       2.24          23  1602982359      NZ   \n",
       "457       2.24           0  1602982383      NZ   \n",
       "\n",
       "                                           Hotel Name  \n",
       "88             St Michaels Sands Hotel and Restaurant  \n",
       "108                               Iloha Seaview Hotel  \n",
       "120                              Les Embruns Du Baril  \n",
       "269                               Vila Baleira Resort  \n",
       "300                             Pacific Harbour Lodge  \n",
       "301  Holiday Inn Express & Suites Panama City-Tyndall  \n",
       "327                                  Hotel Punta León  \n",
       "368                     Quality Hotel Oceans Tutukaka  \n",
       "457                        Hananui Lodge & Apartments  "
      ]
     },
     "execution_count": 9,
     "metadata": {},
     "output_type": "execute_result"
    }
   ],
   "source": [
    "# get the first hotel name for each place\n",
    "names = [h['results'][0]['name'] for h in hotels]\n",
    "    \n",
    "# put names into df\n",
    "hotel_df[\"Hotel Name\"] = names\n",
    "hotel_df"
   ]
  },
  {
   "cell_type": "code",
   "execution_count": 10,
   "metadata": {},
   "outputs": [],
   "source": [
    "# NOTE: Do not change any of the code in this cell\n",
    "\n",
    "# Using the template add the hotel marks to the heatmap\n",
    "info_box_template = \"\"\"\n",
    "<dl>\n",
    "<dt>Name</dt><dd>{Hotel Name}</dd>\n",
    "<dt>City</dt><dd>{City}</dd>\n",
    "<dt>Country</dt><dd>{Country}</dd>\n",
    "</dl>\n",
    "\"\"\"\n",
    "# Store the DataFrame Row\n",
    "# NOTE: be sure to update with your DataFrame name\n",
    "hotel_info = [info_box_template.format(**row) for index, row in hotel_df.iterrows()]\n",
    "locations = hotel_df[[\"Latitude\", \"Longitude\"]]"
   ]
  },
  {
   "cell_type": "code",
   "execution_count": 11,
   "metadata": {},
   "outputs": [
    {
     "data": {
      "application/vnd.jupyter.widget-view+json": {
       "model_id": "e8f24a3a578344c6b941e703946cd651",
       "version_major": 2,
       "version_minor": 0
      },
      "text/plain": [
       "Figure(layout=FigureLayout(border='1px solid black', height='500px', margin='0 auto 0 auto', padding='1px', wi…"
      ]
     },
     "metadata": {},
     "output_type": "display_data"
    }
   ],
   "source": [
    "# create symbol layer\n",
    "symbols = gmaps.symbol_layer(locations,\n",
    "                             info_box_content=hotel_info,\n",
    "                             fill_color='rgba(0, 150, 0, 0.4)',\n",
    "                             stroke_color='rgba(0, 0, 150, 0.4)', scale=2,)\n",
    "# Add the layer to the map\n",
    "fig.add_layer(symbols)\n",
    "\n",
    "# show figure\n",
    "fig"
   ]
  }
 ],
 "metadata": {
  "kernelspec": {
   "display_name": "Python 3",
   "language": "python",
   "name": "python3"
  },
  "language_info": {
   "codemirror_mode": {
    "name": "ipython",
    "version": 3
   },
   "file_extension": ".py",
   "mimetype": "text/x-python",
   "name": "python",
   "nbconvert_exporter": "python",
   "pygments_lexer": "ipython3",
   "version": "3.8.3"
  },
  "latex_envs": {
   "LaTeX_envs_menu_present": true,
   "autoclose": false,
   "autocomplete": true,
   "bibliofile": "biblio.bib",
   "cite_by": "apalike",
   "current_citInitial": 1,
   "eqLabelWithNumbers": true,
   "eqNumInitial": 1,
   "hotkeys": {
    "equation": "Ctrl-E",
    "itemize": "Ctrl-I"
   },
   "labels_anchors": false,
   "latex_user_defs": false,
   "report_style_numbering": false,
   "user_envs_cfg": false
  }
 },
 "nbformat": 4,
 "nbformat_minor": 4
}
